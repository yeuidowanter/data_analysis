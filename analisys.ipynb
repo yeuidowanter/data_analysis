{
 "cells": [
  {
   "cell_type": "code",
   "execution_count": null,
   "metadata": {},
   "outputs": [],
   "source": [
    "import pandas as pd \n",
    "\n",
    "kospi1=pd.read_csv(\"/Users/jiwon/bdata/cscfiles/kosp_v1.csv\")\n",
    "snp1=pd.read_csv('/Users/jiwon/bdata/cscfiles/mergerd_snp_v2.csv')"
   ]
  },
  {
   "cell_type": "code",
   "execution_count": 2,
   "metadata": {},
   "outputs": [],
   "source": [
    "snp1['Date']=pd.to_datetime(snp1['Date'])\n",
    "kospi1['Date']=pd.to_datetime(kospi1['Date'])"
   ]
  },
  {
   "cell_type": "code",
   "execution_count": 3,
   "metadata": {},
   "outputs": [],
   "source": [
    "snp=snp1.copy()\n",
    "kospi=kospi1.copy()"
   ]
  },
  {
   "cell_type": "code",
   "execution_count": 4,
   "metadata": {},
   "outputs": [
    {
     "name": "stdout",
     "output_type": "stream",
     "text": [
      "총 데이터 수: 1216\n",
      "이상치 수: 88\n",
      "이상치 비율: 7.24%\n"
     ]
    }
   ],
   "source": [
    "# IQR 계산\n",
    "Q1 = snp['Volume'].quantile(0.25)\n",
    "Q3 = snp['Volume'].quantile(0.75)\n",
    "IQR = Q3 - Q1\n",
    "\n",
    "# 이상치 조건\n",
    "lower_bound = Q1 - 1.5 * IQR\n",
    "upper_bound = Q3 + 1.5 * IQR\n",
    "\n",
    "# 이상치 개수\n",
    "outliers = snp[(snp['Volume'] < lower_bound) | (snp['Volume'] > upper_bound)]\n",
    "total_outliers = len(outliers)\n",
    "total_data = len(snp)\n",
    "outlier_ratio = total_outliers / total_data\n",
    "\n",
    "print(f\"총 데이터 수: {total_data}\")\n",
    "print(f\"이상치 수: {total_outliers}\")\n",
    "print(f\"이상치 비율: {outlier_ratio:.2%}\")\n"
   ]
  },
  {
   "cell_type": "code",
   "execution_count": 5,
   "metadata": {},
   "outputs": [
    {
     "name": "stdout",
     "output_type": "stream",
     "text": [
      "총 데이터 수: 1187\n",
      "이상치 수: 53\n",
      "이상치 비율: 4.47%\n"
     ]
    }
   ],
   "source": [
    "# IQR 계산\n",
    "Q1 = kospi['Volume'].quantile(0.25)\n",
    "Q3 = kospi['Volume'].quantile(0.75)\n",
    "IQR = Q3 - Q1\n",
    "\n",
    "# 이상치 조건\n",
    "lower_bound = Q1 - 1.5 * IQR\n",
    "upper_bound = Q3 + 1.5 * IQR\n",
    "\n",
    "# 이상치 개수\n",
    "outliers = kospi[(kospi['Volume'] < lower_bound) | (kospi['Volume'] > upper_bound)]\n",
    "total_outliers = len(outliers)\n",
    "total_data = len(kospi)\n",
    "outlier_ratio = total_outliers / total_data\n",
    "\n",
    "print(f\"총 데이터 수: {total_data}\")\n",
    "print(f\"이상치 수: {total_outliers}\")\n",
    "print(f\"이상치 비율: {outlier_ratio:.2%}\")\n"
   ]
  },
  {
   "cell_type": "code",
   "execution_count": 6,
   "metadata": {},
   "outputs": [
    {
     "data": {
      "image/png": "[encoded data removed]",
      "text/plain": [
       "<Figure size 800x600 with 1 Axes>"
      ]
     },
     "metadata": {},
     "output_type": "display_data"
    }
   ],
   "source": [
    "import matplotlib.pyplot as plt\n",
    "import seaborn as sns\n",
    "\n",
    "# Box Plot 시각화\n",
    "plt.figure(figsize=(8, 6))\n",
    "sns.boxplot(x=kospi['Volume'])\n",
    "plt.title(\"kospi Box Plot of Volume\")\n",
    "plt.show()"
   ]
  },
  {
   "cell_type": "code",
   "execution_count": 7,
   "metadata": {},
   "outputs": [],
   "source": [
    "def conditional_probability(data, condition, target, condition_value, target_value):\n",
    "    # Pandas 데이터프레임 처리\n",
    "    if isinstance(data, pd.DataFrame):\n",
    "        total = data[data[condition] == condition_value].shape[0]\n",
    "        matching = data[(data[condition] == condition_value) & (data[target] == target_value)].shape[0]\n",
    "    return matching/total if total > 0 else 0"
   ]
  },
  {
   "cell_type": "code",
   "execution_count": 8,
   "metadata": {},
   "outputs": [
    {
     "name": "stdout",
     "output_type": "stream",
     "text": [
      "S&P500 거래량이 많을때 변동률이 클 확률:0.7203947368421053\n"
     ]
    }
   ],
   "source": [
    "prob_v3_r0=conditional_probability(snp,'Volume_Sector','ratio_change_sector',3,0)\n",
    "prob_v3_r3=conditional_probability(snp,'Volume_Sector','ratio_change_sector',3,3)\n",
    "prob_v3_r2=conditional_probability(snp,'Volume_Sector','ratio_change_sector',3,2)\n",
    "prob_v3_r1=conditional_probability(snp,'Volume_Sector','ratio_change_sector',3,1)\n",
    "prob_v3_r03=prob_v3_r0+prob_v3_r3\n",
    "prob_v3_r12=prob_v3_r1+prob_v3_r2\n",
    "\n",
    "print(f\"S&P500 거래량이 많을때 변동률이 클 확률:{prob_v3_r03}\")"
   ]
  },
  {
   "cell_type": "code",
   "execution_count": 9,
   "metadata": {},
   "outputs": [
    {
     "name": "stdout",
     "output_type": "stream",
     "text": [
      "Kospi 거래량이 많을때 변동률이 클 확률:0.5282485875706215\n"
     ]
    }
   ],
   "source": [
    "k_prob_v3_r0=conditional_probability(kospi,'Volume_Sector','ratio_change_sector',3,0)\n",
    "k_prob_v3_r3=conditional_probability(kospi,'Volume_Sector','ratio_change_sector',3,3)\n",
    "k_prob_v3_r2=conditional_probability(kospi,'Volume_Sector','ratio_change_sector',3,2)\n",
    "k_prob_v3_r1=conditional_probability(kospi,'Volume_Sector','ratio_change_sector',3,1)\n",
    "k_prob_v3_r03=k_prob_v3_r0+k_prob_v3_r3\n",
    "\n",
    "\n",
    "print(f\"Kospi 거래량이 많을때 변동률이 클 확률:{k_prob_v3_r03}\")"
   ]
  },
  {
   "cell_type": "code",
   "execution_count": 15,
   "metadata": {},
   "outputs": [],
   "source": [
    "import numpy as np\n",
    "def calculate_entropy(probs) :\n",
    "    probs=np.array(probs)\n",
    "    return -sum(probs*np.log2(probs))\n",
    "\n"
   ]
  },
  {
   "cell_type": "code",
   "execution_count": 31,
   "metadata": {},
   "outputs": [
    {
     "name": "stdout",
     "output_type": "stream",
     "text": [
      "kopsi 거래량에 의한 변동율의 엔트로피:0.9976962821673061\n",
      "S&P500 거래량에 의한 변동율의 엔트로피:0.8549123962581853\n"
     ]
    }
   ],
   "source": [
    "probs_k=[k_prob_v3_r03,1-k_prob_v3_r03]\n",
    "probs_s=[prob_v3_r03,1-prob_v3_r03]\n",
    "\n",
    "ent_k=calculate_entropy(probs_k)\n",
    "ent_s=calculate_entropy(probs_s)\n",
    "\n",
    "\n",
    "print(f\"kopsi 거래량에 의한 변동율의 엔트로피:{ent_k}\")\n",
    "print(f\"S&P500 거래량에 의한 변동율의 엔트로피:{ent_s}\")"
   ]
  },
  {
   "cell_type": "code",
   "execution_count": null,
   "metadata": {},
   "outputs": [
    {
     "name": "stdout",
     "output_type": "stream",
     "text": [
      "S&P500 거래량이 많을때 변동률이 클 확률:0.7203947368421053\n"
     ]
    }
   ],
   "source": [
    "prob_r3_v3=conditional_probability(snp,'ratio_change_sector','Volume_Sector',3,3)\n",
    "prob_r0_v3=conditional_probability(snp,'ratio_change_sector','Volume_Sector',0,3)\n",
    "prob_r03_v3=prob_r0_v3+prob_r3_v3\n",
    "\n",
    "print(f\"S&P500 거래량이 많을때 변동률이 클 확률:{prob_r03_v3}\")"
   ]
  },
  {
   "cell_type": "code",
   "execution_count": 33,
   "metadata": {},
   "outputs": [
    {
     "name": "stdout",
     "output_type": "stream",
     "text": [
      "                      Volume  daily_change_ratio\n",
      "Volume              1.000000            0.004818\n",
      "daily_change_ratio  0.004818            1.000000\n"
     ]
    }
   ],
   "source": [
    "def calculate_corr(data,arr) :\n",
    "    corr=data[arr].corr()\n",
    "    return corr\n",
    "\n",
    "\n",
    "pp=calculate_corr(kospi,['Volume','daily_change_ratio'])\n",
    "print(pp)"
   ]
  },
  {
   "cell_type": "code",
   "execution_count": 54,
   "metadata": {},
   "outputs": [
    {
     "name": "stdout",
     "output_type": "stream",
     "text": [
      "                         RSI    Volume  daily_change_ratio\n",
      "RSI                 1.000000 -0.239759            0.194847\n",
      "Volume             -0.239759  1.000000           -0.084501\n",
      "daily_change_ratio  0.194847 -0.084501            1.000000\n"
     ]
    }
   ],
   "source": [
    "tt=calculate_corr(snp,['RSI','Volume','daily_change_ratio'])\n",
    "print(tt)"
   ]
  },
  {
   "cell_type": "code",
   "execution_count": null,
   "metadata": {},
   "outputs": [],
   "source": []
  }
 ],
 "metadata": {
  "kernelspec": {
   "display_name": "Python 3",
   "language": "python",
   "name": "python3"
  },
  "language_info": {
   "codemirror_mode": {
    "name": "ipython",
    "version": 3
   },
   "file_extension": ".py",
   "mimetype": "text/x-python",
   "name": "python",
   "nbconvert_exporter": "python",
   "pygments_lexer": "ipython3",
   "version": "3.12.4"
  }
 },
 "nbformat": 4,
 "nbformat_minor": 2
}
