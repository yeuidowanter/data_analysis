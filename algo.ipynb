{
 "cells": [
  {
   "cell_type": "code",
   "execution_count": null,
   "metadata": {},
   "outputs": [
    {
     "name": "stdout",
     "output_type": "stream",
     "text": [
      "[11, 22, 52, 55, 76]\n"
     ]
    }
   ],
   "source": []
  },
  {
   "cell_type": "code",
   "execution_count": 5,
   "metadata": {},
   "outputs": [
    {
     "data": {
      "text/plain": [
       "3"
      ]
     },
     "execution_count": 5,
     "metadata": {},
     "output_type": "execute_result"
    }
   ],
   "source": [
    "(3+4)//2"
   ]
  },
  {
   "cell_type": "code",
   "execution_count": 7,
   "metadata": {},
   "outputs": [
    {
     "name": "stdout",
     "output_type": "stream",
     "text": [
      "[12]\n"
     ]
    }
   ],
   "source": [
    "a=[12,22,33]\n",
    "print(a[0:1])"
   ]
  },
  {
   "cell_type": "code",
   "execution_count": 17,
   "metadata": {},
   "outputs": [],
   "source": [
    "def quick_sort(A, left, right):\n",
    "    if left < right:\n",
    "        # 피벗을 배열의 중간 값으로 선택 (다른 방식으로 선택 가능)\n",
    "        pivot_index = (left + right) // 2\n",
    "        pivot = A[pivot_index]\n",
    "\n",
    "        # 피벗과 왼쪽 첫 번째 원소 교환\n",
    "        A[left], A[pivot_index] = A[pivot_index], A[left]\n",
    "\n",
    "        i = left + 1\n",
    "        j = right\n",
    "\n",
    "        # i와 j가 교차하지 않을 때까지 반복\n",
    "        while i < j:\n",
    "            # A[i]가 피벗보다 작으면 i를 오른쪽으로 이동\n",
    "            while i < j and A[i] <= pivot:\n",
    "                i += 1\n",
    "            # A[j]가 피벗보다 크면 j를 왼쪽으로 이동\n",
    "            while i < j and A[j] >= pivot:\n",
    "                j -= 1\n",
    "            # i가 j보다 작으면 교환\n",
    "            if i < j:\n",
    "                A[i], A[j] = A[j], A[i]\n",
    "\n",
    "        # 마지막으로 피벗을 적절한 위치에 배치\n",
    "        if A[i] > pivot:\n",
    "            i -= 1\n",
    "        A[left], A[i] = A[i], A[left]\n",
    "\n",
    "        # 피벗을 기준으로 두 부분 배열에 대해 재귀적으로 정렬\n",
    "        quick_sort(A, left, i - 1)\n",
    "        quick_sort(A, i + 1, right)"
   ]
  },
  {
   "cell_type": "code",
   "execution_count": 19,
   "metadata": {},
   "outputs": [
    {
     "name": "stdout",
     "output_type": "stream",
     "text": [
      "[11, 22, 52, 55, 76]\n"
     ]
    }
   ],
   "source": [
    "A=[55,76,22,11,52]\n",
    "quick_sort(A,0,len(A)-1)\n",
    "print(A)"
   ]
  },
  {
   "cell_type": "code",
   "execution_count": 33,
   "metadata": {},
   "outputs": [
    {
     "name": "stdout",
     "output_type": "stream",
     "text": [
      "52\n"
     ]
    }
   ],
   "source": [
    "def Select(A,left,right,k):\n",
    "    pivot=(left+right)//2\n",
    "    A[left],A[pivot]=A[pivot],A[left]\n",
    "    i=left+1\n",
    "    j=right\n",
    "    while i<j:\n",
    "        while i<j and A[i]<=A[left]:\n",
    "            i+=1\n",
    "        while i<j and A[j]>A[left]:\n",
    "            j-=1\n",
    "        if i<j:\n",
    "            A[j],A[i]=A[i],A[j]\n",
    "    if A[i]>A[left]:\n",
    "        i-=1\n",
    "    A[left],A[i]=A[i],A[left]\n",
    "    \n",
    "    if i==k-1:\n",
    "        return A[i]\n",
    "    elif (k-1)<i:\n",
    "        return Select(A,left,i-1,k)\n",
    "    elif (k-1)>i:\n",
    "        return Select(A,i+1,right,k)\n",
    "A=[55,76,22,11,52]\n",
    "t=Select(A,0,len(A)-1,3)\n",
    "print(t)"
   ]
  },
  {
   "cell_type": "code",
   "execution_count": 27,
   "metadata": {},
   "outputs": [
    {
     "name": "stdout",
     "output_type": "stream",
     "text": [
      "3번째 작은 값: 9\n"
     ]
    }
   ],
   "source": [
    "def Select(A, left, right, k):\n",
    "    # 피벗을 배열 중간 값으로 선택하고 첫 번째 위치로 이동\n",
    "    pivot = (left + right) // 2\n",
    "    A[left], A[pivot] = A[pivot], A[left]\n",
    "\n",
    "    i = left + 1\n",
    "    j = right\n",
    "\n",
    "    # i와 j가 교차하지 않을 때까지 반복\n",
    "    while i <= j:\n",
    "        while i <= j and A[i] <= A[left]:\n",
    "            i += 1\n",
    "        while i <= j and A[j] > A[left]:\n",
    "            j -= 1\n",
    "        if i < j:\n",
    "            A[i], A[j] = A[j], A[i]\n",
    "    \n",
    "    # 피벗을 적절한 위치로 이동\n",
    "    A[left], A[j] = A[j], A[left]\n",
    "\n",
    "    # k번째 원소가 피벗이면 반환\n",
    "    if j == k - 1:\n",
    "        return A[j]\n",
    "    # k번째 원소가 왼쪽 부분에 있으면 왼쪽에서 찾기\n",
    "    elif j > k - 1:\n",
    "        return Select(A, left, j - 1, k)\n",
    "    # k번째 원소가 오른쪽 부분에 있으면 k 값을 조정해서 오른쪽에서 찾기\n",
    "    else:\n",
    "        return Select(A, j + 1, right, k - (j + 1))\n",
    "\n",
    "# 테스트 코드\n",
    "A = [38, 27, 43, 3, 9, 82, 10]\n",
    "k = 3  # k번째 작은 값 찾기 (k는 1-based index)\n",
    "result = Select(A, 0, len(A) - 1, k)\n",
    "print(f\"{k}번째 작은 값:\", result)"
   ]
  },
  {
   "cell_type": "code",
   "execution_count": 31,
   "metadata": {},
   "outputs": [
    {
     "name": "stdout",
     "output_type": "stream",
     "text": [
      "52\n"
     ]
    }
   ],
   "source": [
    "def Select(A, left, right, k):\n",
    "    if left == right:  # 리스트에 요소가 하나만 남았을 때\n",
    "        return A[left]\n",
    "    \n",
    "    pivot = (left + right) // 2\n",
    "    A[left], A[pivot] = A[pivot], A[left]  # 피벗을 왼쪽으로 이동\n",
    "    i = left + 1\n",
    "    j = right\n",
    "    \n",
    "    while i <= j:\n",
    "        while i <= j and A[i] <= A[left]:  # i 인덱스 범위 체크\n",
    "            i += 1\n",
    "        while i <= j and A[j] > A[left]:  # j 인덱스 범위 체크\n",
    "            j -= 1\n",
    "        if i <= j:\n",
    "            A[i], A[j] = A[j], A[i]\n",
    "    \n",
    "    A[left], A[j] = A[j], A[left]  # 피벗을 정확한 위치로 이동\n",
    "    \n",
    "    if j == k - 1:  # k번째 요소를 찾았을 때\n",
    "        return A[j]\n",
    "    elif j > k - 1:  # k가 피벗보다 왼쪽에 있을 때\n",
    "        return Select(A, left, j - 1, k)\n",
    "    else:  # k가 피벗보다 오른쪽에 있을 때\n",
    "        return Select(A, j + 1, right, k)\n",
    "\n",
    "A = [55, 76, 22, 11, 52]\n",
    "t = Select(A, 0, len(A) - 1, 3)  # 세 번째 작은 값 찾기\n",
    "print(t)\n"
   ]
  },
  {
   "cell_type": "code",
   "execution_count": 35,
   "metadata": {},
   "outputs": [
    {
     "name": "stdout",
     "output_type": "stream",
     "text": [
      "3번째로 작은 값: 22\n"
     ]
    }
   ],
   "source": [
    "def Selection(A, left, right, k):\n",
    "    if left == right:  # 배열의 크기가 1인 경우\n",
    "        return A[left]\n",
    "\n",
    "    # 1. 피벗 선택\n",
    "    pivot = (left + right) // 2\n",
    "    A[left], A[pivot] = A[pivot], A[left]  # 피벗을 왼쪽으로 이동\n",
    "\n",
    "    # 2. 피벗을 기준으로 재배열 (퀵소트 방식)\n",
    "    i = left + 1\n",
    "    j = right\n",
    "    while i <= j:\n",
    "        while i <= j and A[i] <= A[left]:\n",
    "            i += 1\n",
    "        while i <= j and A[j] > A[left]:\n",
    "            j -= 1\n",
    "        if i <= j:\n",
    "            A[i], A[j] = A[j], A[i]\n",
    "\n",
    "    A[left], A[j] = A[j], A[left]  # 피벗을 최종 위치로 이동\n",
    "\n",
    "    # 3. S = (p-1) - left + 1  // 작은 그룹의 크기 수정\n",
    "    S = j - left  # 작은 그룹의 크기\n",
    "\n",
    "    # 4. k가 작은 그룹 내에 있을 경우\n",
    "    if k <= S:\n",
    "        return Selection(A, left, j - 1, k)\n",
    "    # 5. 피벗이 찾고자 하는 값일 경우\n",
    "    elif k == S + 1:  # k == S + 1은 피벗의 위치가 k번째일 때\n",
    "        return A[j]\n",
    "    # 6. k가 큰 그룹에 있을 경우\n",
    "    else:\n",
    "        return Selection(A, j + 1, right, k - (S + 1))  # k를 업데이트하여 큰 그룹에서 탐색\n",
    "\n",
    "# 예시\n",
    "A = [55, 76, 22, 11, 52,56,51,57,10]\n",
    "k = 3\n",
    "result = Selection(A, 0, len(A) - 1, k)\n",
    "print(f\"{k}번째로 작은 값: {result}\")\n"
   ]
  },
  {
   "cell_type": "code",
   "execution_count": 1,
   "metadata": {},
   "outputs": [
    {
     "ename": "NameError",
     "evalue": "name 'kospi' is not defined",
     "output_type": "error",
     "traceback": [
      "\u001b[0;31m---------------------------------------------------------------------------\u001b[0m",
      "\u001b[0;31mNameError\u001b[0m                                 Traceback (most recent call last)",
      "Cell \u001b[0;32mIn[1], line 1\u001b[0m\n\u001b[0;32m----> 1\u001b[0m \u001b[43mkospi\u001b[49m\u001b[38;5;241m.\u001b[39mhead()\n",
      "\u001b[0;31mNameError\u001b[0m: name 'kospi' is not defined"
     ]
    }
   ],
   "source": [
    "kospi.head()\n",
    "    "
   ]
  },
  {
   "cell_type": "code",
   "execution_count": null,
   "metadata": {},
   "outputs": [],
   "source": []
  }
 ],
 "metadata": {
  "kernelspec": {
   "display_name": "Python 3",
   "language": "python",
   "name": "python3"
  },
  "language_info": {
   "codemirror_mode": {
    "name": "ipython",
    "version": 3
   },
   "file_extension": ".py",
   "mimetype": "text/x-python",
   "name": "python",
   "nbconvert_exporter": "python",
   "pygments_lexer": "ipython3",
   "version": "3.12.4"
  }
 },
 "nbformat": 4,
 "nbformat_minor": 2
}
